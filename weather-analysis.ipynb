{
 "cells": [
  {
   "cell_type": "markdown",
   "id": "18523b3e",
   "metadata": {},
   "source": [
    "### FILE FORMATS\n",
    "\n",
    "stations.csv\n",
    "\n",
    "- Station ID (Int)\n",
    "- WBAN ID (Int) \"Weather Bureau Army Navy\"\n",
    "- GPS Latitude (Decimal)\n",
    "- GPS Longitude (Decimal)\n",
    "\n",
    "yyyy.csv (yyyy = year)\n",
    "\n",
    "- StationID (Int)\n",
    "- WBANID (Int)\n",
    "- Month (Int)\n",
    "- Day (Int)\n",
    "- Temperature / degrees F (Decimal)\n",
    "\n",
    "Stations are identified by the combination of their Station ID and WBAN ID.\n",
    "Either of these IDs might be NULL.\n"
   ]
  },
  {
   "cell_type": "code",
   "execution_count": 2,
   "id": "8006e26a",
   "metadata": {},
   "outputs": [],
   "source": [
    "from pyspark.sql.functions import lit, expr, col, udf, sum, min, max, pow\n",
    "from pyspark.sql.types import FloatType\n",
    "from pyspark.sql import SparkSession\n",
    "from haversine import haversine\n",
    "import matplotlib.pyplot as plt\n",
    "import pandas as pd\n",
    "import numpy as np\n",
    "\n",
    "import findspark\n",
    "findspark .init()\n",
    "\n",
    "# Cape Canaveral's latitude and longitude coordinates\n",
    "CC_lat = 28.397\n",
    "CC_long = -80.606"
   ]
  },
  {
   "cell_type": "code",
   "execution_count": 3,
   "id": "829bfa6c",
   "metadata": {},
   "outputs": [],
   "source": [
    "# Create a spark session\n",
    "spark = SparkSession.builder.appName('assignment5').getOrCreate()\n"
   ]
  },
  {
   "cell_type": "code",
   "execution_count": 4,
   "id": "4becb69b",
   "metadata": {},
   "outputs": [
    {
     "name": "stdout",
     "output_type": "stream",
     "text": [
      "+---------+---------------+------------+-------------+-------------+\n",
      "|StationID|Station_WBAN_ID|GPS Latitude|GPS Longitude|Distance (km)|\n",
      "+---------+---------------+------------+-------------+-------------+\n",
      "|   720904|            299|      29.067|      -81.283|     99.53713|\n",
      "|   722011|          92813|       28.29|      -81.437|      82.1911|\n",
      "|   722040|          12838|      28.101|      -80.644|    33.123543|\n",
      "|   722045|          12843|      27.653|      -80.243|    90.075714|\n",
      "|   722046|          12898|      28.517|        -80.8|    23.189085|\n",
      "|   722050|          12815|      28.434|      -81.325|     70.43712|\n",
      "|   722051|          12841|      28.545|      -81.333|    72.942604|\n",
      "|   722053|          12841|      28.545|      -81.333|    72.942604|\n",
      "|   722056|          12834|      29.183|      -81.048|     97.43651|\n",
      "|   722057|          12854|       28.78|      -81.244|      75.4593|\n",
      "|   722058|           null|       29.07|       -80.92|     80.85473|\n",
      "|   722361|          92808|      29.054|      -80.948|     80.30669|\n",
      "|   747870|          12834|      29.183|      -81.048|     97.43651|\n",
      "|   747930|          12843|      27.651|       -80.42|      84.9369|\n",
      "|   747940|          12868|      28.483|      -80.567|    10.295027|\n",
      "|   747945|           null|      28.617|        -80.7|     26.13044|\n",
      "|   747946|          12886|      28.617|      -80.683|    25.593828|\n",
      "|   747950|          12867|      28.233|        -80.6|     18.24545|\n",
      "|   749047|           null|      28.283|      -81.416|     80.27995|\n",
      "|   994951|           null|      27.862|      -80.445|     61.54866|\n",
      "+---------+---------------+------------+-------------+-------------+\n",
      "only showing top 20 rows\n",
      "\n",
      "DataFrame Rows count: 24\n"
     ]
    }
   ],
   "source": [
    "stations_col_names = ['StationID', 'Station_WBAN_ID',\n",
    "                      'GPS Latitude', 'GPS Longitude']\n",
    "\n",
    "# read in data for stations\n",
    "station_data = spark.read.csv('stations.csv', header=False, inferSchema=True)\n",
    "\n",
    "# name each column\n",
    "station_data = station_data.select(\n",
    "    [col(c).alias(stations_col_names[i]) for i, c in enumerate(station_data.columns)])\n",
    "\n",
    "# drop rows in \"GPS Latitude\" and \"GPS Longitude\" if there are null values\n",
    "station_data = station_data.na.drop(subset=[\"GPS Latitude\", \"GPS Longitude\"])\n",
    "\n",
    "# only contain unique combinations of gps coordinates\n",
    "station_data = station_data.dropDuplicates([\"StationID\"])\n",
    "\n",
    "# create a udf that calculates the distance between Cape Canaveral and the station's coordinates\n",
    "haversine_udf = udf(lambda lat, lon: haversine(\n",
    "    (CC_lat, CC_long), (lat, lon)), FloatType())\n",
    "station_data = station_data.withColumn(\"Distance (km)\", haversine_udf(\n",
    "    station_data[\"GPS Latitude\"], station_data[\"GPS Longitude\"]))\n",
    "\n",
    "# only keep rows that has a distance of less than or equal 100 km\n",
    "station_data = station_data.filter(col(\"Distance (km)\") <= 100)\n",
    "\n",
    "# sort stationID in ascending order\n",
    "station_data = station_data.sort(\"StationID\")\n",
    "\n",
    "station_data.show()\n",
    "\n",
    "# Get row count\n",
    "rows = station_data.count()\n",
    "print(f\"DataFrame Rows count: {rows}\")"
   ]
  },
  {
   "cell_type": "code",
   "execution_count": 5,
   "id": "8d461b5c",
   "metadata": {},
   "outputs": [
    {
     "name": "stdout",
     "output_type": "stream",
     "text": [
      "+---------+-------+-----+---+---------------+\n",
      "|StationID|WBAN_ID|Month|Day|Temperature (F)|\n",
      "+---------+-------+-----+---+---------------+\n",
      "|    10010|   null|    1|  1|           17.2|\n",
      "|    10010|   null|    1|  2|           12.1|\n",
      "|    10010|   null|    1|  3|           10.4|\n",
      "|    10010|   null|    1|  4|           17.4|\n",
      "|    10010|   null|    1|  5|           26.5|\n",
      "|    10010|   null|    1|  6|           30.1|\n",
      "|    10010|   null|    1|  7|           29.7|\n",
      "|    10010|   null|    1|  8|           29.6|\n",
      "|    10010|   null|    1|  9|           29.6|\n",
      "|    10010|   null|    1| 10|           33.0|\n",
      "|    10010|   null|    1| 11|           32.5|\n",
      "|    10010|   null|    1| 12|           27.4|\n",
      "|    10010|   null|    1| 13|           22.2|\n",
      "|    10010|   null|    1| 14|           11.3|\n",
      "|    10010|   null|    1| 15|            2.5|\n",
      "|    10010|   null|    1| 16|            3.0|\n",
      "|    10010|   null|    1| 17|           13.4|\n",
      "|    10010|   null|    1| 18|           29.8|\n",
      "|    10010|   null|    1| 19|           27.5|\n",
      "|    10010|   null|    1| 20|           25.2|\n",
      "+---------+-------+-----+---+---------------+\n",
      "only showing top 20 rows\n",
      "\n",
      "DataFrame Rows count: 2435450\n"
     ]
    }
   ],
   "source": [
    "nte6_col_names = ['StationID', 'WBAN_ID', 'Month', 'Day', 'Temperature (F)']\n",
    "\n",
    "# read in 1986 data\n",
    "nte6_data = spark.read.csv('1986.csv', header=False, inferSchema=True)\n",
    "\n",
    "nte6_data = nte6_data.select([col(c).alias(nte6_col_names[i])\n",
    "                             for i, c in enumerate(nte6_data.columns)])\n",
    "\n",
    "# drop rows in \"StationID\", \"Month\", \"Day\" and \"Temperature (F)\" if there are null values\n",
    "nte6_data = nte6_data.na.drop(\n",
    "    subset=[\"StationID\", \"Month\", \"Day\", \"Temperature (F)\"])\n",
    "\n",
    "nte6_data.show()\n",
    "\n",
    "# Get row count\n",
    "rows = nte6_data.count()\n",
    "print(f\"DataFrame Rows count: {rows}\")"
   ]
  },
  {
   "cell_type": "code",
   "execution_count": 6,
   "id": "2ea1ebfe",
   "metadata": {},
   "outputs": [
    {
     "name": "stdout",
     "output_type": "stream",
     "text": [
      "+---------+-------+-----+---+---------------+-------------+\n",
      "|StationID|WBAN_ID|Month|Day|Temperature (F)|Distance (km)|\n",
      "+---------+-------+-----+---+---------------+-------------+\n",
      "|   722040|  12838|    1|  1|           65.0|    33.123543|\n",
      "|   722040|  12838|    1|  2|           67.1|    33.123543|\n",
      "|   722040|  12838|    1|  3|           64.5|    33.123543|\n",
      "|   722040|  12838|    1|  4|           67.6|    33.123543|\n",
      "|   722040|  12838|    1|  5|           63.0|    33.123543|\n",
      "|   722040|  12838|    1|  6|           51.0|    33.123543|\n",
      "|   722040|  12838|    1|  7|           64.1|    33.123543|\n",
      "|   722040|  12838|    1|  8|           63.5|    33.123543|\n",
      "|   722040|  12838|    1|  9|           65.3|    33.123543|\n",
      "|   722040|  12838|    1| 10|           68.7|    33.123543|\n",
      "|   722040|  12838|    1| 11|           63.1|    33.123543|\n",
      "|   722040|  12838|    1| 12|           56.0|    33.123543|\n",
      "|   722040|  12838|    1| 13|           54.9|    33.123543|\n",
      "|   722040|  12838|    1| 14|           49.6|    33.123543|\n",
      "|   722040|  12838|    1| 15|           50.4|    33.123543|\n",
      "|   722040|  12838|    1| 16|           57.0|    33.123543|\n",
      "|   722040|  12838|    1| 17|           66.6|    33.123543|\n",
      "|   722040|  12838|    1| 18|           63.4|    33.123543|\n",
      "|   722040|  12838|    1| 19|           65.7|    33.123543|\n",
      "|   722040|  12838|    1| 20|           57.9|    33.123543|\n",
      "+---------+-------+-----+---+---------------+-------------+\n",
      "only showing top 20 rows\n",
      "\n",
      "DataFrame Rows count: 279\n"
     ]
    }
   ],
   "source": [
    "# Join the stations dataframe with the 1986 dataframe on StationID\n",
    "joined_df = station_data.join(nte6_data, on='StationID').select(col('StationID'), col(\n",
    "    'WBAN_ID'), col('Month'), col('Day'), col('Temperature (F)'), col('Distance (km)'))\n",
    "\n",
    "# Only want the data for January 1986\n",
    "jan_df = joined_df.filter(col(\"Month\") == 1)\n",
    "\n",
    "jan_df.show()\n",
    "\n",
    "# Get row count\n",
    "rows = jan_df.count()\n",
    "print(f\"DataFrame Rows count: {rows}\")"
   ]
  },
  {
   "cell_type": "code",
   "execution_count": 7,
   "id": "9f34860d",
   "metadata": {},
   "outputs": [
    {
     "name": "stdout",
     "output_type": "stream",
     "text": [
      "+---------+-------+-----+---+---------------+-------------+--------------------+--------------------+\n",
      "|StationID|WBAN_ID|Month|Day|Temperature (F)|Distance (km)|           numerator|         denominator|\n",
      "+---------+-------+-----+---+---------------+-------------+--------------------+--------------------+\n",
      "|   722040|  12838|    1| 28|           33.7|    33.123543|0.030715411516202915|9.114365435075048E-4|\n",
      "|   722045|  12843|    1| 28|           37.5|    90.075714|0.004621849930595831|1.232493314825555E-4|\n",
      "|   722046|   null|    1| 28|           37.0|    23.189085| 0.06880729720864233|0.001859656681314...|\n",
      "|   722050|  12815|    1| 28|           34.7|     70.43712|0.006994011016689328|2.015565134492601...|\n",
      "|   722051|  12841|    1| 28|           15.3|    72.942604|0.002875602837741...|1.879478978916097...|\n",
      "|   722056|  12834|    1| 28|           31.8|     97.43651|0.003349528646292025|1.053310895060385...|\n",
      "|   722057|  12854|    1| 28|           33.4|      75.4593|0.005865714960602048|1.756202084012589E-4|\n",
      "|   747945|   null|    1| 28|           33.7|     26.13044| 0.04935560314268819|0.001464557956756326|\n",
      "|   747950|  12867|    1| 28|           39.6|     18.24545| 0.11895592327531465|0.003003937456447...|\n",
      "+---------+-------+-----+---+---------------+-------------+--------------------+--------------------+\n",
      "\n",
      "Estimated temperature at Cape Canaveral on January 28, 1986 using IDW:  36.29158277951761  °F\n"
     ]
    }
   ],
   "source": [
    "power = 2\n",
    "\n",
    "# only choose January 28th rows\n",
    "tw8_jan_df = jan_df.filter(col(\"Day\") == 28)\n",
    "\n",
    "# numerator = temperature / (distance)^2\n",
    "tw8_jan_df = tw8_jan_df.withColumn(\n",
    "    'numerator', tw8_jan_df['Temperature (F)'] / pow(tw8_jan_df['Distance (km)'], power))\n",
    "\n",
    "# denominator = 1 / (distance)^2\n",
    "tw8_jan_df = tw8_jan_df.withColumn(\n",
    "    'denominator', 1 / pow(tw8_jan_df['Distance (km)'], power))\n",
    "\n",
    "# collect the numerator sum\n",
    "numerator_sum = tw8_jan_df.groupBy().sum('numerator').collect()[0][0]\n",
    "\n",
    "# collect the denominator sum\n",
    "denominator_sum = tw8_jan_df.groupBy().sum('denominator').collect()[0][0]\n",
    "\n",
    "# sum of numerator / sum of denominator\n",
    "IDW_val = numerator_sum / denominator_sum\n",
    "\n",
    "tw8_jan_df.show()\n",
    "print(\"Estimated temperature at Cape Canaveral on January 28, 1986 using IDW: \", IDW_val, \" °F\")"
   ]
  },
  {
   "cell_type": "code",
   "execution_count": 8,
   "id": "02345b5e",
   "metadata": {},
   "outputs": [],
   "source": [
    "def jan_idw(power, df):\n",
    "    \"\"\"\n",
    "    Input: Take in a desired power and a dataframe\n",
    "\n",
    "    Output: Return a list of IDW_val for every day\n",
    "    \"\"\"\n",
    "\n",
    "    IDW_ls = []\n",
    "\n",
    "    for i in range(1, 32):\n",
    "\n",
    "        # only choose January i rows\n",
    "        day_jan_df = jan_df.filter(col(\"Day\") == i)\n",
    "\n",
    "        # numerator = temperature / (distance)^2\n",
    "        day_jan_df = day_jan_df.withColumn(\n",
    "            'numerator', day_jan_df['Temperature (F)'] / pow(day_jan_df['Distance (km)'], power))\n",
    "\n",
    "        # denominator = 1 / (distance)^2\n",
    "        day_jan_df = day_jan_df.withColumn(\n",
    "            'denominator', 1 / pow(day_jan_df['Distance (km)'], power))\n",
    "\n",
    "        # collect the numerator sum\n",
    "        numerator_sum = day_jan_df.groupBy().sum('numerator').collect()[0][0]\n",
    "\n",
    "        # collect the denominator sum\n",
    "        denominator_sum = day_jan_df.groupBy().sum(\n",
    "            'denominator').collect()[0][0]\n",
    "\n",
    "        # sum of numerator / sum of denominator\n",
    "        IDW_val = numerator_sum / denominator_sum\n",
    "\n",
    "        IDW_ls.append(IDW_val)\n",
    "\n",
    "    return IDW_ls\n",
    "\n",
    "\n",
    "jan_IDW_list = jan_idw(power, jan_df)"
   ]
  },
  {
   "cell_type": "code",
   "execution_count": 9,
   "id": "4a1ea0b4",
   "metadata": {},
   "outputs": [
    {
     "data": {
      "image/png": "[encoded data removed]",
      "text/plain": [
       "<Figure size 640x480 with 2 Axes>"
      ]
     },
     "metadata": {},
     "output_type": "display_data"
    }
   ],
   "source": [
    "plt.style.use('dark_background')\n",
    "plt.scatter(range(1, len(jan_IDW_list) + 1), jan_IDW_list,\n",
    "            marker='o', s=10, c=jan_IDW_list, cmap='coolwarm')\n",
    "plt.title('Temperature of Cape Canaveral in January, 1986', fontsize=13)\n",
    "plt.xlabel('Day')\n",
    "plt.ylabel('Temperature (F)')\n",
    "plt.grid(False)\n",
    "plt.colorbar()\n",
    "plt.show()"
   ]
  },
  {
   "cell_type": "markdown",
   "id": "f24ee228",
   "metadata": {},
   "source": [
    "In the course of my research and exploration into aerospace technology and mission preparedness, I delved into the historical context of the Challenger disaster. Analyzing this pivotal event from a software engineering perspective, I sought to identify how technological advancements and meticulous planning could mitigate risks and enhance mission safety.\n",
    "\n",
    "Through a deep investigation, I evaluated the role of weather conditions in the Challenger launch and how it affected critical components like the rubber O-ring seals. This analysis highlighted the significance of meticulous timing and decision-making in launching complex vehicles into space, underscoring the importance of minimizing risk factors to ensure a successful mission.\n",
    "\n",
    "In envisioning the potential for safer surface-to-space missions, I recognized the value of an AI-powered checklist to assist engineers in evaluating and mitigating risks comprehensively. This forward-looking perspective aligns with ABL Space Systems' commitment to innovation and safety, envisioning a future where aerospace missions are conducted with heightened precision and security.\n",
    "\n",
    "My eagerness to contribute to ABL Space Systems stems from this insight, and I am excited about the opportunity to apply my software engineering skills to advance the stability and success of space missions. I am committed to leveraging technology to facilitate more informed decision-making and drive the aerospace industry towards a safer and more efficient future.\n"
   ]
  }
 ],
 "metadata": {
  "kernelspec": {
   "display_name": "Python 3 (ipykernel)",
   "language": "python",
   "name": "python3"
  },
  "language_info": {
   "codemirror_mode": {
    "name": "ipython",
    "version": 3
   },
   "file_extension": ".py",
   "mimetype": "text/x-python",
   "name": "python",
   "nbconvert_exporter": "python",
   "pygments_lexer": "ipython3",
   "version": "3.9.13"
  }
 },
 "nbformat": 4,
 "nbformat_minor": 5
}
